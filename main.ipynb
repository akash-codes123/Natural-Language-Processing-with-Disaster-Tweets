{
 "cells": [
  {
   "cell_type": "code",
   "execution_count": 3,
   "metadata": {},
   "outputs": [],
   "source": [
    "import pandas as pd\n",
    "import numpy as np\n",
    "import matplotlib.pyplot as plt\n",
    "from nltk.stem import WordNetLemmatizer\n",
    "from nltk.stem import PorterStemmer\n",
    "from nltk.tokenize import word_tokenize\n",
    "from nltk.corpus import stopwords\n",
    "from nltk.stem.porter import *\n",
    "from sklearn.feature_extraction.text import CountVectorizer\n"
   ]
  },
  {
   "cell_type": "code",
   "execution_count": 4,
   "metadata": {},
   "outputs": [
    {
     "data": {
      "text/plain": [
       "id             0\n",
       "keyword       61\n",
       "location    2533\n",
       "text           0\n",
       "target         0\n",
       "dtype: int64"
      ]
     },
     "execution_count": 4,
     "metadata": {},
     "output_type": "execute_result"
    }
   ],
   "source": [
    "dftrain = pd.read_csv('train.csv')\n",
    "dftest = pd.read_csv('test.csv')\n",
    "dftrain.isnull().sum()"
   ]
  },
  {
   "cell_type": "code",
   "execution_count": 5,
   "metadata": {},
   "outputs": [],
   "source": [
    "dftest= dftest.drop(columns=['keyword', 'location'])"
   ]
  },
  {
   "cell_type": "code",
   "execution_count": 6,
   "metadata": {},
   "outputs": [
    {
     "name": "stdout",
     "output_type": "stream",
     "text": [
      "<class 'pandas.core.frame.DataFrame'>\n",
      "RangeIndex: 7613 entries, 0 to 7612\n",
      "Data columns (total 5 columns):\n",
      " #   Column    Non-Null Count  Dtype \n",
      "---  ------    --------------  ----- \n",
      " 0   id        7613 non-null   int64 \n",
      " 1   keyword   7552 non-null   object\n",
      " 2   location  5080 non-null   object\n",
      " 3   text      7613 non-null   object\n",
      " 4   target    7613 non-null   int64 \n",
      "dtypes: int64(2), object(3)\n",
      "memory usage: 297.5+ KB\n"
     ]
    }
   ],
   "source": [
    "dftrain.info()"
   ]
  },
  {
   "cell_type": "code",
   "execution_count": 7,
   "metadata": {},
   "outputs": [],
   "source": [
    "dftrain = dftrain.drop(columns=['location','id'])\n"
   ]
  },
  {
   "cell_type": "code",
   "execution_count": 8,
   "metadata": {},
   "outputs": [
    {
     "data": {
      "text/html": [
       "<div>\n",
       "<style scoped>\n",
       "    .dataframe tbody tr th:only-of-type {\n",
       "        vertical-align: middle;\n",
       "    }\n",
       "\n",
       "    .dataframe tbody tr th {\n",
       "        vertical-align: top;\n",
       "    }\n",
       "\n",
       "    .dataframe thead th {\n",
       "        text-align: right;\n",
       "    }\n",
       "</style>\n",
       "<table border=\"1\" class=\"dataframe\">\n",
       "  <thead>\n",
       "    <tr style=\"text-align: right;\">\n",
       "      <th></th>\n",
       "      <th>keyword</th>\n",
       "      <th>text</th>\n",
       "      <th>target</th>\n",
       "    </tr>\n",
       "  </thead>\n",
       "  <tbody>\n",
       "    <tr>\n",
       "      <th>7608</th>\n",
       "      <td>NaN</td>\n",
       "      <td>Two giant cranes holding a bridge collapse int...</td>\n",
       "      <td>1</td>\n",
       "    </tr>\n",
       "    <tr>\n",
       "      <th>7609</th>\n",
       "      <td>NaN</td>\n",
       "      <td>@aria_ahrary @TheTawniest The out of control w...</td>\n",
       "      <td>1</td>\n",
       "    </tr>\n",
       "    <tr>\n",
       "      <th>7610</th>\n",
       "      <td>NaN</td>\n",
       "      <td>M1.94 [01:04 UTC]?5km S of Volcano Hawaii. htt...</td>\n",
       "      <td>1</td>\n",
       "    </tr>\n",
       "    <tr>\n",
       "      <th>7611</th>\n",
       "      <td>NaN</td>\n",
       "      <td>Police investigating after an e-bike collided ...</td>\n",
       "      <td>1</td>\n",
       "    </tr>\n",
       "    <tr>\n",
       "      <th>7612</th>\n",
       "      <td>NaN</td>\n",
       "      <td>The Latest: More Homes Razed by Northern Calif...</td>\n",
       "      <td>1</td>\n",
       "    </tr>\n",
       "  </tbody>\n",
       "</table>\n",
       "</div>"
      ],
      "text/plain": [
       "     keyword                                               text  target\n",
       "7608     NaN  Two giant cranes holding a bridge collapse int...       1\n",
       "7609     NaN  @aria_ahrary @TheTawniest The out of control w...       1\n",
       "7610     NaN  M1.94 [01:04 UTC]?5km S of Volcano Hawaii. htt...       1\n",
       "7611     NaN  Police investigating after an e-bike collided ...       1\n",
       "7612     NaN  The Latest: More Homes Razed by Northern Calif...       1"
      ]
     },
     "execution_count": 8,
     "metadata": {},
     "output_type": "execute_result"
    }
   ],
   "source": [
    "dftrain.tail()"
   ]
  },
  {
   "cell_type": "code",
   "execution_count": 9,
   "metadata": {},
   "outputs": [],
   "source": [
    "lem = WordNetLemmatizer()\n",
    "stemer = PorterStemmer()\n",
    "\n",
    "def lowlema(txt):\n",
    "  txt =txt.lower()\n",
    "  txt = word_tokenize(txt)\n",
    "  for i in txt:\n",
    "    if i in stopwords.words(\"english\"):\n",
    "      txt.remove(i)\n",
    "  for i in range(len(txt)):\n",
    "      txt[i] = stemer.stem(txt[i])\n",
    "  txt = ' '.join(txt)  \n",
    "  txt = lem.lemmatize(txt)   \n",
    "  return txt\n",
    "\n",
    "dftrain['text']=dftrain['text'].apply(lowlema)\n",
    "dftest['text'] = dftest['text'].apply(lowlema)"
   ]
  },
  {
   "cell_type": "code",
   "execution_count": 10,
   "metadata": {},
   "outputs": [
    {
     "name": "stderr",
     "output_type": "stream",
     "text": [
      "C:\\Users\\Akash\\AppData\\Local\\Temp\\ipykernel_14108\\544768780.py:1: FutureWarning: The default value of regex will change from True to False in a future version.\n",
      "  dftrain['text'] = dftrain['text'].str.replace(r'[^\\w\\s]+', '')\n",
      "C:\\Users\\Akash\\AppData\\Local\\Temp\\ipykernel_14108\\544768780.py:2: FutureWarning: The default value of regex will change from True to False in a future version.\n",
      "  dftest['text'] = dftest['text'].str.replace(r'[^\\w\\s]+', '')\n"
     ]
    }
   ],
   "source": [
    "dftrain['text'] = dftrain['text'].str.replace(r'[^\\w\\s]+', '')\n",
    "dftest['text'] = dftest['text'].str.replace(r'[^\\w\\s]+', '')"
   ]
  },
  {
   "cell_type": "code",
   "execution_count": 11,
   "metadata": {},
   "outputs": [],
   "source": [
    "xtrain =dftrain['text']\n",
    "ytrain = dftrain['target']\n",
    "xtest = dftest['text']\n"
   ]
  },
  {
   "cell_type": "code",
   "execution_count": 12,
   "metadata": {},
   "outputs": [],
   "source": [
    "from sklearn.feature_extraction.text import TfidfTransformer\n",
    "from sklearn.feature_extraction.text import TfidfVectorizer\n",
    "vec = CountVectorizer()\n",
    "tftransfor = TfidfTransformer()\n",
    "tfvector = TfidfVectorizer()"
   ]
  },
  {
   "cell_type": "code",
   "execution_count": 13,
   "metadata": {},
   "outputs": [],
   "source": [
    "X_train_tf = tfvector.fit(xtrain)\n",
    "X_train_tf = tfvector.transform(xtrain)\n",
    "X_test_tf = tfvector.transform(xtest)"
   ]
  },
  {
   "cell_type": "code",
   "execution_count": 17,
   "metadata": {},
   "outputs": [],
   "source": [
    "import tensorflow as tf\n",
    "from tensorflow.keras.models import Sequential\n",
    "from tensorflow.keras.layers import Dense, Dropout\n",
    "from tensorflow.keras.optimizers import Adam"
   ]
  },
  {
   "cell_type": "code",
   "execution_count": 16,
   "metadata": {},
   "outputs": [],
   "source": [
    "model = Sequential()\n",
    "model.add(Dense(128, activation='relu', input_shape=(X_train_tf.shape[1],)))\n",
    "model.add(Dropout (0.3))\n",
    "model.add(Dense(64,activation = 'relu'))\n",
    "model.add(Dropout(0.3))\n",
    "model.add(Dense(1,activation = 'sigmoid'))\n"
   ]
  },
  {
   "cell_type": "code",
   "execution_count": 18,
   "metadata": {},
   "outputs": [],
   "source": [
    "model.compile(loss = 'binary_crossentropy', optimizer = Adam(learning_rate=0.01),metrics=['accuracy'])"
   ]
  },
  {
   "cell_type": "code",
   "execution_count": 19,
   "metadata": {},
   "outputs": [
    {
     "name": "stdout",
     "output_type": "stream",
     "text": [
      "Epoch 1/10\n",
      "191/191 [==============================] - 11s 50ms/step - loss: 0.5144 - accuracy: 0.7558 - val_loss: 0.4799 - val_accuracy: 0.7774\n",
      "Epoch 2/10\n",
      "191/191 [==============================] - 9s 48ms/step - loss: 0.2358 - accuracy: 0.9074 - val_loss: 0.5293 - val_accuracy: 0.7663\n",
      "Epoch 3/10\n",
      "191/191 [==============================] - 9s 48ms/step - loss: 0.1040 - accuracy: 0.9619 - val_loss: 0.7585 - val_accuracy: 0.7262\n",
      "Epoch 4/10\n",
      "191/191 [==============================] - 9s 47ms/step - loss: 0.0569 - accuracy: 0.9770 - val_loss: 1.0183 - val_accuracy: 0.7131\n",
      "Epoch 5/10\n",
      "191/191 [==============================] - 9s 47ms/step - loss: 0.0513 - accuracy: 0.9816 - val_loss: 1.1792 - val_accuracy: 0.7203\n",
      "Epoch 6/10\n",
      "191/191 [==============================] - 9s 47ms/step - loss: 0.0301 - accuracy: 0.9878 - val_loss: 1.0990 - val_accuracy: 0.7144\n",
      "Epoch 7/10\n",
      "191/191 [==============================] - 9s 48ms/step - loss: 0.0306 - accuracy: 0.9885 - val_loss: 1.0308 - val_accuracy: 0.7144\n",
      "Epoch 8/10\n",
      "191/191 [==============================] - 9s 49ms/step - loss: 0.0221 - accuracy: 0.9910 - val_loss: 1.2551 - val_accuracy: 0.7098\n",
      "Epoch 9/10\n",
      "191/191 [==============================] - 9s 48ms/step - loss: 0.0224 - accuracy: 0.9908 - val_loss: 1.0764 - val_accuracy: 0.7091\n",
      "Epoch 10/10\n",
      "191/191 [==============================] - 9s 48ms/step - loss: 0.0197 - accuracy: 0.9921 - val_loss: 1.3314 - val_accuracy: 0.7078\n"
     ]
    },
    {
     "data": {
      "text/plain": [
       "<keras.callbacks.History at 0x181a2ef9ff0>"
      ]
     },
     "execution_count": 19,
     "metadata": {},
     "output_type": "execute_result"
    }
   ],
   "source": [
    "model.fit(X_train_tf.toarray(), ytrain, batch_size=32, epochs=10,validation_split=0.2)"
   ]
  },
  {
   "cell_type": "code",
   "execution_count": 22,
   "metadata": {},
   "outputs": [
    {
     "name": "stdout",
     "output_type": "stream",
     "text": [
      "102/102 [==============================] - 1s 5ms/step\n"
     ]
    }
   ],
   "source": [
    "predicted_probs = model.predict(X_test_tf.toarray())\n",
    "predicted_df = pd.DataFrame({\n",
    "    'Text': X_test_tf,  # Assuming 'text_test' is the text data from your test set\n",
    "    'PredictedProbability': predicted_probs.flatten(),\n",
    "    'PredictedLabel': (predicted_probs >= 0.5).astype(int).flatten()  # Convert probabilities to binary labels\n",
    "})"
   ]
  },
  {
   "cell_type": "code",
   "execution_count": 23,
   "metadata": {},
   "outputs": [
    {
     "data": {
      "text/html": [
       "<div>\n",
       "<style scoped>\n",
       "    .dataframe tbody tr th:only-of-type {\n",
       "        vertical-align: middle;\n",
       "    }\n",
       "\n",
       "    .dataframe tbody tr th {\n",
       "        vertical-align: top;\n",
       "    }\n",
       "\n",
       "    .dataframe thead th {\n",
       "        text-align: right;\n",
       "    }\n",
       "</style>\n",
       "<table border=\"1\" class=\"dataframe\">\n",
       "  <thead>\n",
       "    <tr style=\"text-align: right;\">\n",
       "      <th></th>\n",
       "      <th>Text</th>\n",
       "      <th>PredictedProbability</th>\n",
       "      <th>PredictedLabel</th>\n",
       "    </tr>\n",
       "  </thead>\n",
       "  <tbody>\n",
       "    <tr>\n",
       "      <th>0</th>\n",
       "      <td>(0, 17512)\\t0.6446980108734724\\n  (0, 6046)\\...</td>\n",
       "      <td>0.003534</td>\n",
       "      <td>0</td>\n",
       "    </tr>\n",
       "    <tr>\n",
       "      <th>1</th>\n",
       "      <td>(0, 12369)\\t0.3747848457327939\\n  (0, 11322)...</td>\n",
       "      <td>0.495660</td>\n",
       "      <td>0</td>\n",
       "    </tr>\n",
       "    <tr>\n",
       "      <th>2</th>\n",
       "      <td>(0, 12469)\\t0.3069864577200327\\n  (0, 12264)...</td>\n",
       "      <td>0.999956</td>\n",
       "      <td>1</td>\n",
       "    </tr>\n",
       "    <tr>\n",
       "      <th>3</th>\n",
       "      <td>(0, 18901)\\t0.3963389091520933\\n  (0, 12252)...</td>\n",
       "      <td>0.999950</td>\n",
       "      <td>1</td>\n",
       "    </tr>\n",
       "    <tr>\n",
       "      <th>4</th>\n",
       "      <td>(0, 18170)\\t0.38634499376493414\\n  (0, 12749...</td>\n",
       "      <td>0.999995</td>\n",
       "      <td>1</td>\n",
       "    </tr>\n",
       "    <tr>\n",
       "      <th>...</th>\n",
       "      <td>...</td>\n",
       "      <td>...</td>\n",
       "      <td>...</td>\n",
       "    </tr>\n",
       "    <tr>\n",
       "      <th>3258</th>\n",
       "      <td>(0, 19439)\\t0.31237997650442323\\n  (0, 11326...</td>\n",
       "      <td>0.956960</td>\n",
       "      <td>1</td>\n",
       "    </tr>\n",
       "    <tr>\n",
       "      <th>3259</th>\n",
       "      <td>(0, 19193)\\t0.31249446253735064\\n  (0, 19039...</td>\n",
       "      <td>1.000000</td>\n",
       "      <td>1</td>\n",
       "    </tr>\n",
       "    <tr>\n",
       "      <th>3260</th>\n",
       "      <td>(0, 7870)\\t0.4955719986505727\\n  (0, 6455)\\t...</td>\n",
       "      <td>0.999994</td>\n",
       "      <td>1</td>\n",
       "    </tr>\n",
       "    <tr>\n",
       "      <th>3261</th>\n",
       "      <td>(0, 18753)\\t0.30507847179043046\\n  (0, 13125...</td>\n",
       "      <td>0.999982</td>\n",
       "      <td>1</td>\n",
       "    </tr>\n",
       "    <tr>\n",
       "      <th>3262</th>\n",
       "      <td>(0, 19284)\\t0.48685062869732604\\n  (0, 10118...</td>\n",
       "      <td>0.999636</td>\n",
       "      <td>1</td>\n",
       "    </tr>\n",
       "  </tbody>\n",
       "</table>\n",
       "<p>3263 rows × 3 columns</p>\n",
       "</div>"
      ],
      "text/plain": [
       "                                                   Text  PredictedProbability  \\\n",
       "0       (0, 17512)\\t0.6446980108734724\\n  (0, 6046)\\...              0.003534   \n",
       "1       (0, 12369)\\t0.3747848457327939\\n  (0, 11322)...              0.495660   \n",
       "2       (0, 12469)\\t0.3069864577200327\\n  (0, 12264)...              0.999956   \n",
       "3       (0, 18901)\\t0.3963389091520933\\n  (0, 12252)...              0.999950   \n",
       "4       (0, 18170)\\t0.38634499376493414\\n  (0, 12749...              0.999995   \n",
       "...                                                 ...                   ...   \n",
       "3258    (0, 19439)\\t0.31237997650442323\\n  (0, 11326...              0.956960   \n",
       "3259    (0, 19193)\\t0.31249446253735064\\n  (0, 19039...              1.000000   \n",
       "3260    (0, 7870)\\t0.4955719986505727\\n  (0, 6455)\\t...              0.999994   \n",
       "3261    (0, 18753)\\t0.30507847179043046\\n  (0, 13125...              0.999982   \n",
       "3262    (0, 19284)\\t0.48685062869732604\\n  (0, 10118...              0.999636   \n",
       "\n",
       "      PredictedLabel  \n",
       "0                  0  \n",
       "1                  0  \n",
       "2                  1  \n",
       "3                  1  \n",
       "4                  1  \n",
       "...              ...  \n",
       "3258               1  \n",
       "3259               1  \n",
       "3260               1  \n",
       "3261               1  \n",
       "3262               1  \n",
       "\n",
       "[3263 rows x 3 columns]"
      ]
     },
     "execution_count": 23,
     "metadata": {},
     "output_type": "execute_result"
    }
   ],
   "source": [
    "predicted_df"
   ]
  },
  {
   "cell_type": "code",
   "execution_count": 26,
   "metadata": {},
   "outputs": [],
   "source": [
    "dftest['target'] = predicted_df['PredictedLabel']"
   ]
  },
  {
   "cell_type": "code",
   "execution_count": 28,
   "metadata": {},
   "outputs": [],
   "source": [
    "dftest= dftest.drop(columns = ['text'])"
   ]
  },
  {
   "cell_type": "code",
   "execution_count": 29,
   "metadata": {},
   "outputs": [
    {
     "data": {
      "text/html": [
       "<div>\n",
       "<style scoped>\n",
       "    .dataframe tbody tr th:only-of-type {\n",
       "        vertical-align: middle;\n",
       "    }\n",
       "\n",
       "    .dataframe tbody tr th {\n",
       "        vertical-align: top;\n",
       "    }\n",
       "\n",
       "    .dataframe thead th {\n",
       "        text-align: right;\n",
       "    }\n",
       "</style>\n",
       "<table border=\"1\" class=\"dataframe\">\n",
       "  <thead>\n",
       "    <tr style=\"text-align: right;\">\n",
       "      <th></th>\n",
       "      <th>id</th>\n",
       "      <th>target</th>\n",
       "    </tr>\n",
       "  </thead>\n",
       "  <tbody>\n",
       "    <tr>\n",
       "      <th>0</th>\n",
       "      <td>0</td>\n",
       "      <td>0</td>\n",
       "    </tr>\n",
       "    <tr>\n",
       "      <th>1</th>\n",
       "      <td>2</td>\n",
       "      <td>0</td>\n",
       "    </tr>\n",
       "    <tr>\n",
       "      <th>2</th>\n",
       "      <td>3</td>\n",
       "      <td>1</td>\n",
       "    </tr>\n",
       "    <tr>\n",
       "      <th>3</th>\n",
       "      <td>9</td>\n",
       "      <td>1</td>\n",
       "    </tr>\n",
       "    <tr>\n",
       "      <th>4</th>\n",
       "      <td>11</td>\n",
       "      <td>1</td>\n",
       "    </tr>\n",
       "    <tr>\n",
       "      <th>...</th>\n",
       "      <td>...</td>\n",
       "      <td>...</td>\n",
       "    </tr>\n",
       "    <tr>\n",
       "      <th>3258</th>\n",
       "      <td>10861</td>\n",
       "      <td>1</td>\n",
       "    </tr>\n",
       "    <tr>\n",
       "      <th>3259</th>\n",
       "      <td>10865</td>\n",
       "      <td>1</td>\n",
       "    </tr>\n",
       "    <tr>\n",
       "      <th>3260</th>\n",
       "      <td>10868</td>\n",
       "      <td>1</td>\n",
       "    </tr>\n",
       "    <tr>\n",
       "      <th>3261</th>\n",
       "      <td>10874</td>\n",
       "      <td>1</td>\n",
       "    </tr>\n",
       "    <tr>\n",
       "      <th>3262</th>\n",
       "      <td>10875</td>\n",
       "      <td>1</td>\n",
       "    </tr>\n",
       "  </tbody>\n",
       "</table>\n",
       "<p>3263 rows × 2 columns</p>\n",
       "</div>"
      ],
      "text/plain": [
       "         id  target\n",
       "0         0       0\n",
       "1         2       0\n",
       "2         3       1\n",
       "3         9       1\n",
       "4        11       1\n",
       "...     ...     ...\n",
       "3258  10861       1\n",
       "3259  10865       1\n",
       "3260  10868       1\n",
       "3261  10874       1\n",
       "3262  10875       1\n",
       "\n",
       "[3263 rows x 2 columns]"
      ]
     },
     "execution_count": 29,
     "metadata": {},
     "output_type": "execute_result"
    }
   ],
   "source": [
    "dftest"
   ]
  },
  {
   "cell_type": "code",
   "execution_count": 30,
   "metadata": {},
   "outputs": [],
   "source": [
    "dftest.to_csv('predicted_results.csv', index=False)"
   ]
  }
 ],
 "metadata": {
  "kernelspec": {
   "display_name": "Python 3",
   "language": "python",
   "name": "python3"
  },
  "language_info": {
   "codemirror_mode": {
    "name": "ipython",
    "version": 3
   },
   "file_extension": ".py",
   "mimetype": "text/x-python",
   "name": "python",
   "nbconvert_exporter": "python",
   "pygments_lexer": "ipython3",
   "version": "3.10.1"
  },
  "orig_nbformat": 4
 },
 "nbformat": 4,
 "nbformat_minor": 2
}
